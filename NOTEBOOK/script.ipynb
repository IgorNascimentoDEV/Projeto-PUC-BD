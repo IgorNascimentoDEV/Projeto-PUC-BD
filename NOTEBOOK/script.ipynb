{
 "cells": [
  {
   "cell_type": "code",
   "execution_count": 1,
   "metadata": {},
   "outputs": [
    {
     "name": "stdout",
     "output_type": "stream",
     "text": [
      "Requirement already satisfied: pandas in c:\\python312\\lib\\site-packages (2.2.2)\n",
      "Requirement already satisfied: pymysql in c:\\python312\\lib\\site-packages (1.1.1)\n",
      "Requirement already satisfied: numpy>=1.26.0 in c:\\python312\\lib\\site-packages (from pandas) (2.0.0)\n",
      "Requirement already satisfied: python-dateutil>=2.8.2 in c:\\users\\wtinfo pc\\appdata\\roaming\\python\\python312\\site-packages (from pandas) (2.9.0.post0)\n",
      "Requirement already satisfied: pytz>=2020.1 in c:\\python312\\lib\\site-packages (from pandas) (2024.1)\n",
      "Requirement already satisfied: tzdata>=2022.7 in c:\\python312\\lib\\site-packages (from pandas) (2024.1)\n",
      "Requirement already satisfied: six>=1.5 in c:\\users\\wtinfo pc\\appdata\\roaming\\python\\python312\\site-packages (from python-dateutil>=2.8.2->pandas) (1.16.0)\n",
      "Note: you may need to restart the kernel to use updated packages.\n"
     ]
    }
   ],
   "source": [
    "pip install pandas pymysql\n"
   ]
  },
  {
   "cell_type": "code",
   "execution_count": 2,
   "metadata": {},
   "outputs": [],
   "source": [
    "import pandas as pd\n",
    "import pymysql\n",
    "\n",
    "# Função para conectar ao banco de dados MySQL\n",
    "def connect_to_mysql(host, user, password, database):\n",
    "    try:\n",
    "        connection = pymysql.connect(\n",
    "            host=host,\n",
    "            user=user,\n",
    "            password=password,\n",
    "            database=database\n",
    "        )\n",
    "        return connection\n",
    "    except pymysql.MySQLError as e:\n",
    "        print(f\"Erro ao conectar ao MySQL: {e}\")\n",
    "        return None\n",
    "\n",
    "# Configurações de conexão\n",
    "host = 'localhost'\n",
    "user = 'root'\n",
    "password = '123456'\n",
    "database = 'veterinaria'\n",
    "\n",
    "# Conectando ao banco de dados\n",
    "connection = connect_to_mysql(host, user, password, database)"
   ]
  },
  {
   "cell_type": "code",
   "execution_count": 4,
   "metadata": {},
   "outputs": [
    {
     "name": "stderr",
     "output_type": "stream",
     "text": [
      "C:\\Users\\WTINFO PC\\AppData\\Local\\Temp\\ipykernel_11412\\4088197772.py:2: UserWarning: pandas only supports SQLAlchemy connectable (engine/connection) or database string URI or sqlite3 DBAPI2 connection. Other DBAPI2 objects are not tested. Please consider using SQLAlchemy.\n",
      "  venda = pd.read_sql(\"SELECT * FROM Venda\", connection)\n",
      "C:\\Users\\WTINFO PC\\AppData\\Local\\Temp\\ipykernel_11412\\4088197772.py:3: UserWarning: pandas only supports SQLAlchemy connectable (engine/connection) or database string URI or sqlite3 DBAPI2 connection. Other DBAPI2 objects are not tested. Please consider using SQLAlchemy.\n",
      "  funcionario = pd.read_sql(\"SELECT * FROM funcionario\", connection)\n",
      "C:\\Users\\WTINFO PC\\AppData\\Local\\Temp\\ipykernel_11412\\4088197772.py:4: UserWarning: pandas only supports SQLAlchemy connectable (engine/connection) or database string URI or sqlite3 DBAPI2 connection. Other DBAPI2 objects are not tested. Please consider using SQLAlchemy.\n",
      "  cliente = pd.read_sql(\"SELECT * FROM Cliente\", connection)\n",
      "C:\\Users\\WTINFO PC\\AppData\\Local\\Temp\\ipykernel_11412\\4088197772.py:5: UserWarning: pandas only supports SQLAlchemy connectable (engine/connection) or database string URI or sqlite3 DBAPI2 connection. Other DBAPI2 objects are not tested. Please consider using SQLAlchemy.\n",
      "  pagamento = pd.read_sql(\"SELECT * FROM pagamento\", connection)\n",
      "C:\\Users\\WTINFO PC\\AppData\\Local\\Temp\\ipykernel_11412\\4088197772.py:6: UserWarning: pandas only supports SQLAlchemy connectable (engine/connection) or database string URI or sqlite3 DBAPI2 connection. Other DBAPI2 objects are not tested. Please consider using SQLAlchemy.\n",
      "  itens_venda = pd.read_sql(\"SELECT * FROM itens_venda\", connection)\n",
      "C:\\Users\\WTINFO PC\\AppData\\Local\\Temp\\ipykernel_11412\\4088197772.py:7: UserWarning: pandas only supports SQLAlchemy connectable (engine/connection) or database string URI or sqlite3 DBAPI2 connection. Other DBAPI2 objects are not tested. Please consider using SQLAlchemy.\n",
      "  produto = pd.read_sql(\"SELECT * FROM Produto\", connection)\n",
      "C:\\Users\\WTINFO PC\\AppData\\Local\\Temp\\ipykernel_11412\\4088197772.py:8: UserWarning: pandas only supports SQLAlchemy connectable (engine/connection) or database string URI or sqlite3 DBAPI2 connection. Other DBAPI2 objects are not tested. Please consider using SQLAlchemy.\n",
      "  animal = pd.read_sql(\"SELECT * FROM Animal\", connection)\n",
      "C:\\Users\\WTINFO PC\\AppData\\Local\\Temp\\ipykernel_11412\\4088197772.py:9: UserWarning: pandas only supports SQLAlchemy connectable (engine/connection) or database string URI or sqlite3 DBAPI2 connection. Other DBAPI2 objects are not tested. Please consider using SQLAlchemy.\n",
      "  cliente_produto = pd.read_sql(\"SELECT * FROM cliente_produto\", connection)\n",
      "C:\\Users\\WTINFO PC\\AppData\\Local\\Temp\\ipykernel_11412\\4088197772.py:10: UserWarning: pandas only supports SQLAlchemy connectable (engine/connection) or database string URI or sqlite3 DBAPI2 connection. Other DBAPI2 objects are not tested. Please consider using SQLAlchemy.\n",
      "  cliente_servico = pd.read_sql(\"SELECT * FROM cliente_servico\", connection)\n",
      "C:\\Users\\WTINFO PC\\AppData\\Local\\Temp\\ipykernel_11412\\4088197772.py:11: UserWarning: pandas only supports SQLAlchemy connectable (engine/connection) or database string URI or sqlite3 DBAPI2 connection. Other DBAPI2 objects are not tested. Please consider using SQLAlchemy.\n",
      "  endereco = pd.read_sql(\"SELECT * FROM endereco\", connection)\n",
      "C:\\Users\\WTINFO PC\\AppData\\Local\\Temp\\ipykernel_11412\\4088197772.py:12: UserWarning: pandas only supports SQLAlchemy connectable (engine/connection) or database string URI or sqlite3 DBAPI2 connection. Other DBAPI2 objects are not tested. Please consider using SQLAlchemy.\n",
      "  fornecedor = pd.read_sql(\"SELECT * FROM fornecedor\", connection)\n",
      "C:\\Users\\WTINFO PC\\AppData\\Local\\Temp\\ipykernel_11412\\4088197772.py:13: UserWarning: pandas only supports SQLAlchemy connectable (engine/connection) or database string URI or sqlite3 DBAPI2 connection. Other DBAPI2 objects are not tested. Please consider using SQLAlchemy.\n",
      "  itens_venda = pd.read_sql(\"SELECT * FROM itens_venda\", connection)\n",
      "C:\\Users\\WTINFO PC\\AppData\\Local\\Temp\\ipykernel_11412\\4088197772.py:14: UserWarning: pandas only supports SQLAlchemy connectable (engine/connection) or database string URI or sqlite3 DBAPI2 connection. Other DBAPI2 objects are not tested. Please consider using SQLAlchemy.\n",
      "  servico = pd.read_sql(\"SELECT * FROM servico\", connection)\n"
     ]
    }
   ],
   "source": [
    "# Carregar os dados das tabelas em DataFrames\n",
    "venda = pd.read_sql(\"SELECT * FROM Venda\", connection)\n",
    "funcionario = pd.read_sql(\"SELECT * FROM funcionario\", connection)\n",
    "cliente = pd.read_sql(\"SELECT * FROM Cliente\", connection)\n",
    "pagamento = pd.read_sql(\"SELECT * FROM pagamento\", connection)\n",
    "itens_venda = pd.read_sql(\"SELECT * FROM itens_venda\", connection)\n",
    "produto = pd.read_sql(\"SELECT * FROM Produto\", connection)\n",
    "animal = pd.read_sql(\"SELECT * FROM Animal\", connection)\n",
    "cliente_produto = pd.read_sql(\"SELECT * FROM cliente_produto\", connection)\n",
    "cliente_servico = pd.read_sql(\"SELECT * FROM cliente_servico\", connection)\n",
    "endereco = pd.read_sql(\"SELECT * FROM endereco\", connection)\n",
    "fornecedor = pd.read_sql(\"SELECT * FROM fornecedor\", connection)\n",
    "itens_venda = pd.read_sql(\"SELECT * FROM itens_venda\", connection)\n",
    "servico = pd.read_sql(\"SELECT * FROM servico\", connection)\n",
    "# Fechando a conexão\n",
    "if connection:\n",
    "    connection.close()\n"
   ]
  },
  {
   "cell_type": "code",
   "execution_count": 5,
   "metadata": {},
   "outputs": [
    {
     "name": "stdout",
     "output_type": "stream",
     "text": [
      "Todas as colunas presentes em Venda\n",
      "Todas as colunas presentes em Funcionario\n",
      "Todas as colunas presentes em Cliente\n",
      "Todas as colunas presentes em Pagamento\n",
      "Todas as colunas presentes em Itens_venda\n",
      "Todas as colunas presentes em Produto\n",
      "Todas as colunas presentes em Animal\n"
     ]
    }
   ],
   "source": [
    "# Verificação de colunas para debug\n",
    "def check_columns(df, expected_columns):\n",
    "    missing_columns = [col for col in expected_columns if col not in df.columns]\n",
    "    if missing_columns:\n",
    "        print(f\"Colunas ausentes em {df.name}: {missing_columns}\")\n",
    "    else:\n",
    "        print(f\"Todas as colunas presentes em {df.name}\")\n",
    "\n",
    "# Nomear os DataFrames para facilitar o debug\n",
    "venda.name = \"Venda\"\n",
    "funcionario.name = \"Funcionario\"\n",
    "cliente.name = \"Cliente\"\n",
    "pagamento.name = \"Pagamento\"\n",
    "itens_venda.name = \"Itens_venda\"\n",
    "produto.name = \"Produto\"\n",
    "animal.name = \"Animal\"\n",
    "\n",
    "# Verificar colunas\n",
    "check_columns(venda, ['Funcionario_cpf', 'Cliente_cpf', 'id', 'pagamento_id', 'Data_hora'])\n",
    "check_columns(funcionario, ['cpf', 'nome'])\n",
    "check_columns(cliente, ['cpf', 'nome'])\n",
    "check_columns(pagamento, ['id', 'forma_pagamento'])\n",
    "check_columns(itens_venda, ['Venda_idVenda', 'Produto_id'])\n",
    "check_columns(produto, ['id', 'descricao', 'quantidade', 'preco'])\n",
    "check_columns(animal, ['nome', 'especie', 'idade', 'peso', 'Cliente_cpf'])"
   ]
  },
  {
   "cell_type": "code",
   "execution_count": 6,
   "metadata": {},
   "outputs": [
    {
     "name": "stdout",
     "output_type": "stream",
     "text": [
      "Resultado da junção múltipla:\n",
      "   Funcionario_cpf            nome  Cliente_cpf  cpf_cliente  \\\n",
      "0        123456789      João Silva  12057103021  12057103021   \n",
      "1        987654321    Maria Santos  12057193021  12057193021   \n",
      "2        456789123  Pedro Oliveira  14719263038  14719263038   \n",
      "3        789123456     Ana Pereira  18315064088  18315064088   \n",
      "\n",
      "     forma_pagamento           Data_hora     descricao  quantidade   preco  \n",
      "0  Cartão de Crédito 2023-05-19 10:30:00  Ração Canina        50.0  100.00  \n",
      "1   Cartão de Débito 2023-05-19 11:00:00           NaN         NaN     NaN  \n",
      "2           Dinheiro 2023-05-19 11:30:00  Ração Felina        30.0   80.00  \n",
      "3                Pix 2023-05-19 12:00:00           NaN         NaN     NaN  \n"
     ]
    }
   ],
   "source": [
    "# Junção múltipla de 6 tabelas: Venda, Funcionario, Cliente, Pagamento, Itens_venda, Produto\n",
    "result1 = pd.merge(venda, funcionario, left_on='Funcionario_cpf', right_on='cpf', how='left', suffixes=('', '_funcionario')) \\\n",
    "            .merge(cliente, left_on='Cliente_cpf', right_on='cpf', how='left', suffixes=('', '_cliente')) \\\n",
    "            .merge(pagamento, left_on='pagamento_id', right_on='id', how='left', suffixes=('', '_pagamento')) \\\n",
    "            .merge(itens_venda, left_on='id', right_on='Venda_idVenda', how='left') \\\n",
    "            .merge(produto, left_on='Produto_id', right_on='id', how='left', suffixes=('', '_produto')) \\\n",
    "            [['Funcionario_cpf', 'nome', 'Cliente_cpf', 'cpf_cliente', 'forma_pagamento', 'Data_hora', 'descricao', 'quantidade', 'preco']]\n",
    "\n",
    "print(\"Resultado da junção múltipla:\")\n",
    "print(result1.head())\n"
   ]
  },
  {
   "cell_type": "code",
   "execution_count": 7,
   "metadata": {},
   "outputs": [
    {
     "name": "stdout",
     "output_type": "stream",
     "text": [
      "\n",
      "Resultado do Group by:\n",
      "   Funcionario_cpf    forma_pagamento Nome_Funcionario  Qdte_Total Valor_Total\n",
      "0        123456789  Cartão de Crédito       João Silva        50.0      100.00\n",
      "1        456789123           Dinheiro   Pedro Oliveira        30.0       80.00\n",
      "2        789123456                Pix      Ana Pereira         0.0           0\n",
      "3        987654321   Cartão de Débito     Maria Santos         0.0           0\n"
     ]
    }
   ],
   "source": [
    "# Group by com agregações\n",
    "result2 = pd.merge(venda, funcionario, left_on='Funcionario_cpf', right_on='cpf', how='left', suffixes=('', '_funcionario')) \\\n",
    "            .merge(cliente, left_on='Cliente_cpf', right_on='cpf', how='left', suffixes=('', '_cliente')) \\\n",
    "            .merge(pagamento, left_on='pagamento_id', right_on='id', how='left', suffixes=('', '_pagamento')) \\\n",
    "            .merge(itens_venda, left_on='id', right_on='Venda_idVenda', how='left') \\\n",
    "            .merge(produto, left_on='Produto_id', right_on='id', how='left', suffixes=('', '_produto')) \\\n",
    "            .groupby(['Funcionario_cpf', 'forma_pagamento']) \\\n",
    "            .agg(Nome_Funcionario=('nome', 'first'), \n",
    "                 Qdte_Total=('quantidade', 'sum'), \n",
    "                 Valor_Total=('preco', 'sum')) \\\n",
    "            .reset_index()\n",
    "\n",
    "print(\"\\nResultado do Group by:\")\n",
    "print(result2.head())\n"
   ]
  },
  {
   "cell_type": "code",
   "execution_count": 16,
   "metadata": {},
   "outputs": [
    {
     "name": "stdout",
     "output_type": "stream",
     "text": [
      "\n",
      "Resultado da subconsulta EXISTS (funcionários com vendas):\n",
      "              nome\n",
      "2       João Silva\n",
      "6   Pedro Oliveira\n",
      "10     Ana Pereira\n",
      "12    Maria Santos\n"
     ]
    }
   ],
   "source": [
    "# Subconsulta EXISTS: Funcionários que realizaram vendas\n",
    "funcionarios_com_vendas = venda['Funcionario_cpf'].unique()\n",
    "result5 = funcionario[funcionario['cpf'].isin(funcionarios_com_vendas)][['nome']]\n",
    "\n",
    "print(\"\\nResultado da subconsulta EXISTS (funcionários com vendas):\")\n",
    "print(result5.head())\n"
   ]
  },
  {
   "cell_type": "code",
   "execution_count": 13,
   "metadata": {},
   "outputs": [
    {
     "name": "stdout",
     "output_type": "stream",
     "text": [
      "\n",
      "Resultado do LEFT JOIN:\n",
      "   id  Funcionario_cpf  Cliente_cpf  pagamento_id           Data_hora  \\\n",
      "0   1        123456789  12057103021             1 2023-05-19 10:30:00   \n",
      "1   2        987654321  12057193021             2 2023-05-19 11:00:00   \n",
      "2   3        456789123  14719263038             3 2023-05-19 11:30:00   \n",
      "3   4        789123456  18315064088             4 2023-05-19 12:00:00   \n",
      "\n",
      "   Produto_id  \n",
      "0         1.0  \n",
      "1         NaN  \n",
      "2         2.0  \n",
      "3         NaN  \n"
     ]
    }
   ],
   "source": [
    "# LEFT JOIN: Mostrar todas as vendas, mesmo aquelas que não possuem itens\n",
    "result7 = venda \\\n",
    "    .merge(itens_venda, left_on='id', right_on='Venda_idVenda', how='left') \\\n",
    "    [['id', 'Funcionario_cpf', 'Cliente_cpf', 'pagamento_id', 'Data_hora', 'Produto_id']]\n",
    "\n",
    "print(\"\\nResultado do LEFT JOIN:\")\n",
    "print(result7.head())\n"
   ]
  },
  {
   "cell_type": "code",
   "execution_count": 17,
   "metadata": {},
   "outputs": [
    {
     "name": "stdout",
     "output_type": "stream",
     "text": [
      "\n",
      "Resultado da subconsulta NOT EXISTS (produtos não vendidos):\n",
      "   id              descricao\n",
      "2   3          Medicamento A\n",
      "3   4    Brinquedo para Cães\n",
      "4   5     Coleira Antipulgas\n",
      "5   6      Shampoo para Cães\n",
      "6   7  Arranhador para Gatos\n"
     ]
    }
   ],
   "source": [
    "# Subconsulta NOT EXISTS: Produtos que nunca foram vendidos\n",
    "produtos_vendidos = itens_venda['Produto_id'].unique()\n",
    "result6 = produto[~produto['id'].isin(produtos_vendidos)][['id', 'descricao']]\n",
    "\n",
    "print(\"\\nResultado da subconsulta NOT EXISTS (produtos não vendidos):\")\n",
    "print(result6.head())\n"
   ]
  },
  {
   "cell_type": "code",
   "execution_count": 24,
   "metadata": {},
   "outputs": [
    {
     "name": "stdout",
     "output_type": "stream",
     "text": [
      "\n",
      "Resultado da contagem de vendas por cliente:\n",
      "   Cliente_cpf Nome_Cliente  Total_Vendas\n",
      "0  12057103021       Bumbwe             1\n",
      "1  12057193021       Forond             1\n",
      "2  14719263038       Reaion             1\n",
      "3  18315064088        Geurt             1\n"
     ]
    }
   ],
   "source": [
    "# Consulta com 2 funções de agregação: Contar o número total de vendas realizadas por cada cliente\n",
    "result8 = venda \\\n",
    "    .merge(cliente, left_on='Cliente_cpf', right_on='cpf', how='left') \\\n",
    "    .groupby(['Cliente_cpf', 'nome']) \\\n",
    "    .agg(Total_Vendas=('id', 'count')) \\\n",
    "    .reset_index() \\\n",
    "    .rename(columns={'nome': 'Nome_Cliente'})\n",
    "\n",
    "print(\"\\nResultado da contagem de vendas por cliente:\")\n",
    "print(result8.head())\n"
   ]
  },
  {
   "cell_type": "code",
   "execution_count": 25,
   "metadata": {},
   "outputs": [
    {
     "name": "stdout",
     "output_type": "stream",
     "text": [
      "\n",
      "Resultado da contagem de vendas por cliente:\n",
      "   Cliente_cpf Nome_Cliente  Total_Vendas\n",
      "0  12057103021       Bumbwe             1\n",
      "1  12057193021       Forond             1\n",
      "2  14719263038       Reaion             1\n",
      "3  18315064088        Geurt             1\n"
     ]
    }
   ],
   "source": [
    "# Consulta com 2 funções de agregação: Contar o número total de vendas realizadas por cada cliente\n",
    "result8 = venda \\\n",
    "    .merge(cliente, left_on='Cliente_cpf', right_on='cpf', how='left') \\\n",
    "    .groupby(['Cliente_cpf', 'nome']) \\\n",
    "    .agg(Total_Vendas=('id', 'count')) \\\n",
    "    .reset_index() \\\n",
    "    .rename(columns={'nome': 'Nome_Cliente'})\n",
    "\n",
    "print(\"\\nResultado da contagem de vendas por cliente:\")\n",
    "print(result8.head())\n"
   ]
  },
  {
   "cell_type": "code",
   "execution_count": 30,
   "metadata": {},
   "outputs": [
    {
     "name": "stdout",
     "output_type": "stream",
     "text": [
      "Resultado da junção múltipla:\n",
      "   Funcionario_cpf nome_funcionario  Cliente_cpf  cpf_cliente  \\\n",
      "0        123456789       João Silva  12057103021  12057103021   \n",
      "1        987654321     Maria Santos  12057193021  12057193021   \n",
      "2        456789123   Pedro Oliveira  14719263038  14719263038   \n",
      "3        789123456      Ana Pereira  18315064088  18315064088   \n",
      "\n",
      "     forma_pagamento           Data_hora     descricao  quantidade   preco  \n",
      "0  Cartão de Crédito 2023-05-19 10:30:00  Ração Canina        50.0  100.00  \n",
      "1   Cartão de Débito 2023-05-19 11:00:00           NaN         NaN     NaN  \n",
      "2           Dinheiro 2023-05-19 11:30:00  Ração Felina        30.0   80.00  \n",
      "3                Pix 2023-05-19 12:00:00           NaN         NaN     NaN  \n"
     ]
    }
   ],
   "source": [
    "# Junção múltipla de 3 tabelas: Venda, Funcionario, Cliente, Pagamento, Itens_venda, Produto\n",
    "result1 = pd.merge(venda, funcionario, left_on='Funcionario_cpf', right_on='cpf', how='left') \\\n",
    "            .merge(cliente, left_on='Cliente_cpf', right_on='cpf', how='left', suffixes=('_funcionario', '_cliente')) \\\n",
    "            .merge(pagamento, left_on='pagamento_id', right_on='id', how='left') \\\n",
    "            .merge(itens_venda, left_on='id_x', right_on='Venda_idVenda', how='left') \\\n",
    "            .merge(produto, left_on='Produto_id', right_on='id', how='left', suffixes=('_itens_venda', '_produto')) \\\n",
    "            [['Funcionario_cpf', 'nome_funcionario', 'Cliente_cpf', 'cpf_cliente', 'forma_pagamento', 'Data_hora', 'descricao', 'quantidade', 'preco']]\n",
    "\n",
    "print(\"Resultado da junção múltipla:\")\n",
    "print(result1.head())\n"
   ]
  },
  {
   "cell_type": "code",
   "execution_count": 18,
   "metadata": {},
   "outputs": [
    {
     "name": "stdout",
     "output_type": "stream",
     "text": [
      "\n",
      "Resultado do Group by:\n",
      "   Funcionario_cpf    forma_pagamento Nome_Funcionario  Qdte_Total Valor_Total\n",
      "0        123456789  Cartão de Crédito       João Silva        50.0      100.00\n",
      "1        456789123           Dinheiro   Pedro Oliveira        30.0       80.00\n",
      "2        789123456                Pix      Ana Pereira         0.0           0\n",
      "3        987654321   Cartão de Débito     Maria Santos         0.0           0\n"
     ]
    }
   ],
   "source": [
    "# Group by com agregações\n",
    "result2 = pd.merge(venda, funcionario, left_on='Funcionario_cpf', right_on='cpf', how='left') \\\n",
    "            .merge(pagamento, left_on='pagamento_id', right_on='id', how='left') \\\n",
    "            .merge(itens_venda, left_on='id_x', right_on='Venda_idVenda', how='left') \\\n",
    "            .merge(produto, left_on='Produto_id', right_on='id', how='left') \\\n",
    "            .groupby(['Funcionario_cpf', 'forma_pagamento']) \\\n",
    "            .agg(Nome_Funcionario=('nome', 'first'), \n",
    "                 Qdte_Total=('quantidade', 'sum'), \n",
    "                 Valor_Total=('preco', 'sum')) \\\n",
    "            .reset_index()\n",
    "\n",
    "print(\"\\nResultado do Group by:\")\n",
    "print(result2.head())\n"
   ]
  },
  {
   "cell_type": "code",
   "execution_count": 37,
   "metadata": {},
   "outputs": [
    {
     "name": "stdout",
     "output_type": "stream",
     "text": [
      "\n",
      "Resultado do Group by com Order by:\n",
      "   Cliente_cpf          cpf  Qdte_Total  Valor_Total\n",
      "0  12057103021  12057103021        50.0        100.0\n",
      "2  14719263038  14719263038        30.0         80.0\n",
      "1  12057193021  12057193021         0.0          0.0\n",
      "3  18315064088  18315064088         0.0          0.0\n"
     ]
    }
   ],
   "source": [
    "# Group by e Order by\n",
    "result3 = pd.merge(venda, cliente, left_on='Cliente_cpf', right_on='cpf', how='left') \\\n",
    "            .merge(itens_venda, left_on='id', right_on='Venda_idVenda', how='left') \\\n",
    "            .merge(produto, left_on='Produto_id', right_on='id', how='left') \\\n",
    "            .groupby(['Cliente_cpf', 'cpf']) \\\n",
    "            .agg(Qdte_Total=('quantidade', 'sum'), \n",
    "                 Valor_Total=('preco', 'sum')) \\\n",
    "            .reset_index()\n",
    "\n",
    "# Convertendo Valor_Total para tipo numérico (caso necessário)\n",
    "result3['Valor_Total'] = pd.to_numeric(result3['Valor_Total'])\n",
    "\n",
    "# Ordenando pelo Valor_Total em ordem decrescente\n",
    "result3 = result3.sort_values(by='Valor_Total', ascending=False)\n",
    "\n",
    "print(\"\\nResultado do Group by com Order by:\")\n",
    "print(result3.head())\n"
   ]
  },
  {
   "cell_type": "code",
   "execution_count": 19,
   "metadata": {},
   "outputs": [
    {
     "name": "stdout",
     "output_type": "stream",
     "text": [
      "\n",
      "Resultado do filtro LIKE:\n",
      "    id   nome_x   especie  idade  peso  Cliente_cpf          cpf    nome_y  \\\n",
      "1    2     Dory     Peixe      3   0.1  12057193021  12057193021    Forond   \n",
      "2    3  Bolinha  Cachorro      2  10.4  12057103021  12057103021    Bumbwe   \n",
      "3    4   Pipoca  Papagaio      1   0.9  12057103021  12057103021    Bumbwe   \n",
      "8    9    Apolo  Cachorro      7  30.0  66739827052  66739827052   Irloaim   \n",
      "10  11      Zoe    Coelho      8   4.4  79601875093  79601875093  Nusriogu   \n",
      "\n",
      "               fone               email  \n",
      "1   (21) 99456-7821    forond@email.com  \n",
      "2   (11) 99876-5432    bumbwe@email.com  \n",
      "3   (11) 99876-5432    bumbwe@email.com  \n",
      "8   (51) 99765-4321   irloaim@email.com  \n",
      "10  (61) 99654-3210  nusriogu@email.com  \n"
     ]
    }
   ],
   "source": [
    "# Filtrar nome de animal que contenha a letra \"o\"\n",
    "result4 = pd.merge(animal, cliente, left_on='Cliente_cpf', right_on='cpf', how='left') \\\n",
    "            .rename(columns={'nome': 'Nome_Animal', 'nome_cliente': 'Nome_Cliente'}) \\\n",
    "            [animal['nome'].str.contains('o', case=False, na=False)]\n",
    "\n",
    "print(\"\\nResultado do filtro LIKE:\")\n",
    "print(result4.head())\n"
   ]
  },
  {
   "cell_type": "code",
   "execution_count": 20,
   "metadata": {},
   "outputs": [
    {
     "name": "stdout",
     "output_type": "stream",
     "text": [
      "\n",
      "Resultado da subconsulta com operador IN:\n",
      "Empty DataFrame\n",
      "Columns: [id, Funcionario_cpf, Cliente_cpf, pagamento_id, Data_hora, cpf, nome, fone, email]\n",
      "Index: []\n"
     ]
    },
    {
     "name": "stderr",
     "output_type": "stream",
     "text": [
      "C:\\Users\\WTINFO PC\\AppData\\Local\\Temp\\ipykernel_11412\\2157594113.py:4: UserWarning: Boolean Series key will be reindexed to match DataFrame index.\n",
      "  result5 = pd.merge(venda, cliente, left_on='Cliente_cpf', right_on='cpf', how='inner') \\\n"
     ]
    }
   ],
   "source": [
    "# Subconsulta com operador IN: Selecionar vendas realizadas por clientes específicos\n",
    "clientes_selecionados = ['12345678900', '98765432100']\n",
    "\n",
    "result5 = pd.merge(venda, cliente, left_on='Cliente_cpf', right_on='cpf', how='inner') \\\n",
    "            [cliente['cpf'].isin(clientes_selecionados)]\n",
    "\n",
    "print(\"\\nResultado da subconsulta com operador IN:\")\n",
    "print(result5.head())\n"
   ]
  },
  {
   "cell_type": "code",
   "execution_count": 21,
   "metadata": {},
   "outputs": [
    {
     "name": "stdout",
     "output_type": "stream",
     "text": [
      "\n",
      "Resultado da subconsulta com operador EXISTS:\n",
      "          cpf            nome         funcao\n",
      "2   123456789      João Silva    Veterinário\n",
      "6   456789123  Pedro Oliveira       Auxiliar\n",
      "10  789123456     Ana Pereira  Administrador\n",
      "12  987654321    Maria Santos      Atendente\n"
     ]
    }
   ],
   "source": [
    "# Subconsulta com operador EXISTS: Selecionar funcionários que realizaram vendas\n",
    "funcionarios_com_vendas = funcionario[funcionario['cpf'].isin(venda['Funcionario_cpf'])]\n",
    "\n",
    "print(\"\\nResultado da subconsulta com operador EXISTS:\")\n",
    "print(funcionarios_com_vendas.head())\n"
   ]
  },
  {
   "cell_type": "code",
   "execution_count": 22,
   "metadata": {},
   "outputs": [
    {
     "name": "stdout",
     "output_type": "stream",
     "text": [
      "\n",
      "Resultado da consulta externa (LEFT JOIN):\n",
      "   id  Funcionario_cpf  Cliente_cpf  pagamento_id           Data_hora  \\\n",
      "0   1        123456789  12057103021             1 2023-05-19 10:30:00   \n",
      "1   2        987654321  12057193021             2 2023-05-19 11:00:00   \n",
      "2   3        456789123  14719263038             3 2023-05-19 11:30:00   \n",
      "3   4        789123456  18315064088             4 2023-05-19 12:00:00   \n",
      "\n",
      "   Produto_id  \n",
      "0         1.0  \n",
      "1         NaN  \n",
      "2         2.0  \n",
      "3         NaN  \n"
     ]
    }
   ],
   "source": [
    "# Consulta externa: Mostrar todas as vendas, mesmo aquelas que não possuem itens\n",
    "result7 = pd.merge(venda, itens_venda, left_on='id', right_on='Venda_idVenda', how='left') \\\n",
    "            [['id', 'Funcionario_cpf', 'Cliente_cpf', 'pagamento_id', 'Data_hora', 'Produto_id']]\n",
    "\n",
    "print(\"\\nResultado da consulta externa (LEFT JOIN):\")\n",
    "print(result7.head())\n"
   ]
  },
  {
   "cell_type": "code",
   "execution_count": 23,
   "metadata": {},
   "outputs": [
    {
     "name": "stdout",
     "output_type": "stream",
     "text": [
      "\n",
      "Resultado da consulta com agregações (count):\n",
      "   Cliente_cpf    nome  Total_Vendas\n",
      "0  12057103021  Bumbwe             1\n",
      "1  12057193021  Forond             1\n",
      "2  14719263038  Reaion             1\n",
      "3  18315064088   Geurt             1\n"
     ]
    }
   ],
   "source": [
    "# Consulta: Contar o número total de vendas realizadas por cada cliente\n",
    "result8 = pd.merge(venda, cliente, left_on='Cliente_cpf', right_on='cpf', how='left') \\\n",
    "            .groupby(['Cliente_cpf', 'nome']) \\\n",
    "            .agg(Total_Vendas=('id', 'count')) \\\n",
    "            .reset_index()\n",
    "\n",
    "print(\"\\nResultado da consulta com agregações (count):\")\n",
    "print(result8.head())\n"
   ]
  },
  {
   "cell_type": "code",
   "execution_count": 22,
   "metadata": {},
   "outputs": [],
   "source": [
    "# Fechando a conexão\n",
    "if connection:\n",
    "    connection.close()\n"
   ]
  }
 ],
 "metadata": {
  "kernelspec": {
   "display_name": "Python 3",
   "language": "python",
   "name": "python3"
  },
  "language_info": {
   "codemirror_mode": {
    "name": "ipython",
    "version": 3
   },
   "file_extension": ".py",
   "mimetype": "text/x-python",
   "name": "python",
   "nbconvert_exporter": "python",
   "pygments_lexer": "ipython3",
   "version": "3.12.4"
  }
 },
 "nbformat": 4,
 "nbformat_minor": 2
}
