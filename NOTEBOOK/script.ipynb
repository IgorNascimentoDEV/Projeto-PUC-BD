{
 "cells": [
  {
   "cell_type": "code",
   "execution_count": 6,
   "metadata": {},
   "outputs": [
    {
     "name": "stdout",
     "output_type": "stream",
     "text": [
      "Collecting pandas\n",
      "  Using cached pandas-2.2.2-cp312-cp312-win_amd64.whl.metadata (19 kB)\n",
      "Requirement already satisfied: pymysql in c:\\python312\\lib\\site-packages (1.1.1)\n",
      "Requirement already satisfied: numpy>=1.26.0 in c:\\python312\\lib\\site-packages (from pandas) (2.0.0)\n",
      "Requirement already satisfied: python-dateutil>=2.8.2 in c:\\users\\wtinfo pc\\appdata\\roaming\\python\\python312\\site-packages (from pandas) (2.9.0.post0)\n",
      "Requirement already satisfied: pytz>=2020.1 in c:\\python312\\lib\\site-packages (from pandas) (2024.1)\n",
      "Requirement already satisfied: tzdata>=2022.7 in c:\\python312\\lib\\site-packages (from pandas) (2024.1)\n",
      "Requirement already satisfied: six>=1.5 in c:\\users\\wtinfo pc\\appdata\\roaming\\python\\python312\\site-packages (from python-dateutil>=2.8.2->pandas) (1.16.0)\n",
      "Using cached pandas-2.2.2-cp312-cp312-win_amd64.whl (11.5 MB)\n",
      "Installing collected packages: pandas\n",
      "Successfully installed pandas-2.2.2\n",
      "Note: you may need to restart the kernel to use updated packages.\n"
     ]
    }
   ],
   "source": [
    "pip install pandas pymysql\n"
   ]
  },
  {
   "cell_type": "code",
   "execution_count": 11,
   "metadata": {},
   "outputs": [],
   "source": [
    "import pandas as pd\n",
    "import pymysql\n",
    "\n",
    "# Função para conectar ao banco de dados MySQL\n",
    "def connect_to_mysql(host, user, password, database):\n",
    "    try:\n",
    "        connection = pymysql.connect(\n",
    "            host=host,\n",
    "            user=user,\n",
    "            password=password,\n",
    "            database=database\n",
    "        )\n",
    "        return connection\n",
    "    except pymysql.MySQLError as e:\n",
    "        print(f\"Erro ao conectar ao MySQL: {e}\")\n",
    "        return None\n",
    "\n",
    "# Configurações de conexão\n",
    "host = 'localhost'\n",
    "user = 'root'\n",
    "password = '123456'\n",
    "database = 'veterinaria'\n",
    "\n",
    "# Conectando ao banco de dados\n",
    "connection = connect_to_mysql(host, user, password, database)\n"
   ]
  },
  {
   "cell_type": "code",
   "execution_count": 12,
   "metadata": {},
   "outputs": [],
   "source": [
    "# Função para executar consultas SQL e retornar DataFrames\n",
    "def execute_query(query, connection):\n",
    "    try:\n",
    "        df = pd.read_sql(query, connection)\n",
    "        return df\n",
    "    except Exception as e:\n",
    "        print(f\"Erro ao executar a consulta: {e}\")\n",
    "        return None\n"
   ]
  },
  {
   "cell_type": "code",
   "execution_count": 15,
   "metadata": {},
   "outputs": [
    {
     "name": "stdout",
     "output_type": "stream",
     "text": [
      "   Funcionario_cpf Nome_Funcionario  Cliente_cpf Nome_Cliente  \\\n",
      "0        123456789       João Silva  12057103021  12057103021   \n",
      "1        987654321     Maria Santos  12057193021  12057193021   \n",
      "2        456789123   Pedro Oliveira  14719263038  14719263038   \n",
      "3        789123456      Ana Pereira  18315064088  18315064088   \n",
      "\n",
      "     forma_pagamento           Data_hora     descricao  quantidade   preco  \n",
      "0  Cartão de Crédito 2023-05-19 10:30:00  Ração Canina        50.0  100.00  \n",
      "1   Cartão de Débito 2023-05-19 11:00:00          None         NaN    None  \n",
      "2           Dinheiro 2023-05-19 11:30:00  Ração Felina        30.0   80.00  \n",
      "3                Pix 2023-05-19 12:00:00          None         NaN    None  \n"
     ]
    },
    {
     "name": "stderr",
     "output_type": "stream",
     "text": [
      "C:\\Users\\WTINFO PC\\AppData\\Local\\Temp\\ipykernel_17788\\4227175894.py:4: UserWarning: pandas only supports SQLAlchemy connectable (engine/connection) or database string URI or sqlite3 DBAPI2 connection. Other DBAPI2 objects are not tested. Please consider using SQLAlchemy.\n",
      "  df = pd.read_sql(query, connection)\n"
     ]
    }
   ],
   "source": [
    "#Consulta 1: Junção múltipla\n",
    "query1 = \"\"\"\n",
    "SELECT \n",
    "    t1.Funcionario_cpf, \n",
    "    t2.nome AS Nome_Funcionario,\n",
    "    t1.Cliente_cpf, \n",
    "    t3.cpf AS Nome_Cliente,\n",
    "    t4.forma_pagamento, \n",
    "    t1.Data_hora,\n",
    "    t6.descricao, \n",
    "    t6.quantidade, \n",
    "    t6.preco\n",
    "FROM veterinaria.Venda t1\n",
    "LEFT JOIN veterinaria.funcionario t2 ON\n",
    "    t1.Funcionario_cpf = t2.cpf\n",
    "LEFT JOIN veterinaria.Cliente t3 ON\n",
    "    t1.Cliente_cpf = t3.cpf\n",
    "LEFT JOIN veterinaria.pagamento t4 ON\n",
    "    t1.pagamento_id = t4.id\n",
    "LEFT JOIN veterinaria.itens_venda t5 ON \n",
    "    t1.id = t5.Venda_idVenda\n",
    "LEFT JOIN veterinaria.Produto t6 ON\n",
    "    t5.Produto_id = t6.id;\n",
    "\"\"\"\n",
    "\n",
    "df1 = execute_query(query1, connection)\n",
    "print(df1)\n"
   ]
  },
  {
   "cell_type": "code",
   "execution_count": 16,
   "metadata": {},
   "outputs": [
    {
     "name": "stdout",
     "output_type": "stream",
     "text": [
      "  Nome_Funcionario    forma_pagamento  Qdte_Total  Valor_Total\n",
      "0       João Silva  Cartão de Crédito        50.0       5000.0\n",
      "1     Maria Santos   Cartão de Débito         NaN          NaN\n",
      "2   Pedro Oliveira           Dinheiro        30.0       2400.0\n",
      "3      Ana Pereira                Pix         NaN          NaN\n"
     ]
    },
    {
     "name": "stderr",
     "output_type": "stream",
     "text": [
      "C:\\Users\\WTINFO PC\\AppData\\Local\\Temp\\ipykernel_17788\\4227175894.py:4: UserWarning: pandas only supports SQLAlchemy connectable (engine/connection) or database string URI or sqlite3 DBAPI2 connection. Other DBAPI2 objects are not tested. Please consider using SQLAlchemy.\n",
      "  df = pd.read_sql(query, connection)\n"
     ]
    }
   ],
   "source": [
    "#Consulta 2: GROUP BY\n",
    "query2 = \"\"\"\n",
    "SELECT \n",
    "    t2.nome AS Nome_Funcionario,\n",
    "    t4.forma_pagamento,  \n",
    "    SUM(t6.quantidade) AS Qdte_Total, \n",
    "    (SUM(t6.quantidade) * SUM(t6.preco)) AS Valor_Total\n",
    "FROM veterinaria.Venda t1\n",
    "LEFT JOIN veterinaria.funcionario t2 ON\n",
    "    t1.Funcionario_cpf = t2.cpf\n",
    "LEFT JOIN veterinaria.Cliente t3 ON\n",
    "    t1.Cliente_cpf = t3.cpf\n",
    "LEFT JOIN veterinaria.pagamento t4 ON\n",
    "    t1.pagamento_id = t4.id\n",
    "LEFT JOIN veterinaria.itens_venda t5 ON \n",
    "    t1.id = t5.Venda_idVenda\n",
    "LEFT JOIN veterinaria.Produto t6 ON\n",
    "    t5.Produto_id = t6.id\n",
    "GROUP BY\n",
    "    t1.Funcionario_cpf, \n",
    "    t4.forma_pagamento;\n",
    "\"\"\"\n",
    "\n",
    "df2 = execute_query(query2, connection)\n",
    "print(df2.head())\n"
   ]
  },
  {
   "cell_type": "code",
   "execution_count": 17,
   "metadata": {},
   "outputs": [
    {
     "name": "stdout",
     "output_type": "stream",
     "text": [
      "   Cliente_cpf Nome_Cliente  Qdte_Total  Valor_Total\n",
      "0  12057103021  12057103021        50.0       5000.0\n",
      "1  14719263038  14719263038        30.0       2400.0\n",
      "2  12057193021  12057193021         NaN          NaN\n",
      "3  18315064088  18315064088         NaN          NaN\n"
     ]
    },
    {
     "name": "stderr",
     "output_type": "stream",
     "text": [
      "C:\\Users\\WTINFO PC\\AppData\\Local\\Temp\\ipykernel_17788\\4227175894.py:4: UserWarning: pandas only supports SQLAlchemy connectable (engine/connection) or database string URI or sqlite3 DBAPI2 connection. Other DBAPI2 objects are not tested. Please consider using SQLAlchemy.\n",
      "  df = pd.read_sql(query, connection)\n"
     ]
    }
   ],
   "source": [
    "#Consulta 3: ORDER BY\n",
    "query3 = \"\"\"\n",
    "SELECT \n",
    "    t1.Cliente_cpf, \n",
    "    t3.cpf AS Nome_Cliente, \n",
    "    SUM(t6.quantidade) AS Qdte_Total, \n",
    "    (SUM(t6.quantidade) * SUM(t6.preco)) AS Valor_Total\n",
    "FROM veterinaria.Venda t1\n",
    "LEFT JOIN veterinaria.funcionario t2 ON\n",
    "    t1.Funcionario_cpf = t2.cpf\n",
    "LEFT JOIN veterinaria.Cliente t3 ON\n",
    "    t1.Cliente_cpf = t3.cpf\n",
    "LEFT JOIN veterinaria.pagamento t4 ON\n",
    "    t1.pagamento_id = t4.id\n",
    "LEFT JOIN veterinaria.itens_venda t5 ON \n",
    "    t1.id = t5.Venda_idVenda\n",
    "LEFT JOIN veterinaria.Produto t6 ON\n",
    "    t5.Produto_id = t6.id\n",
    "GROUP BY \n",
    "    t1.Cliente_cpf, \n",
    "    t3.cpf\n",
    "ORDER BY \n",
    "    Valor_Total DESC;\n",
    "\"\"\"\n",
    "\n",
    "df3 = execute_query(query3, connection)\n",
    "print(df3.head())\n"
   ]
  },
  {
   "cell_type": "code",
   "execution_count": 18,
   "metadata": {},
   "outputs": [
    {
     "name": "stdout",
     "output_type": "stream",
     "text": [
      "  Nome_Animal   especie  idade  peso Nome_Cliente\n",
      "0       Apolo  Cachorro      7  30.0      Irloaim\n",
      "1        Nemo     Peixe      2   0.2       Borlia\n",
      "2       Rocco  Cachorro      6  22.6        Elion\n",
      "3        Milo      Gato      5   4.9      Farlion\n",
      "4        Coco     Arara      4   1.5      Geraion\n"
     ]
    },
    {
     "name": "stderr",
     "output_type": "stream",
     "text": [
      "C:\\Users\\WTINFO PC\\AppData\\Local\\Temp\\ipykernel_17788\\4227175894.py:4: UserWarning: pandas only supports SQLAlchemy connectable (engine/connection) or database string URI or sqlite3 DBAPI2 connection. Other DBAPI2 objects are not tested. Please consider using SQLAlchemy.\n",
      "  df = pd.read_sql(query, connection)\n"
     ]
    }
   ],
   "source": [
    "#Consulta 4: LIKE\n",
    "query4 = \"\"\"\n",
    "SELECT \n",
    "    t1.nome AS Nome_Animal, \n",
    "    t1.especie, \n",
    "    t1.idade, \n",
    "    t1.peso, \n",
    "    t2.nome AS Nome_Cliente\n",
    "FROM veterinaria.Animal t1\n",
    "LEFT JOIN veterinaria.Cliente t2 ON\n",
    "    t1.Cliente_cpf = t2.cpf\n",
    "WHERE -- Filtrar nome de animal que termine com a letra \"o\"\n",
    "    t1.nome LIKE '%o';\n",
    "\"\"\"\n",
    "\n",
    "df4 = execute_query(query4, connection)\n",
    "print(df4.head())\n"
   ]
  },
  {
   "cell_type": "code",
   "execution_count": 19,
   "metadata": {},
   "outputs": [
    {
     "name": "stdout",
     "output_type": "stream",
     "text": [
      "             nome\n",
      "0      João Silva\n",
      "1  Pedro Oliveira\n",
      "2     Ana Pereira\n",
      "3    Maria Santos\n",
      "   id              descricao\n",
      "0   3          Medicamento A\n",
      "1   4    Brinquedo para Cães\n",
      "2   5     Coleira Antipulgas\n",
      "3   6      Shampoo para Cães\n",
      "4   7  Arranhador para Gatos\n"
     ]
    },
    {
     "name": "stderr",
     "output_type": "stream",
     "text": [
      "C:\\Users\\WTINFO PC\\AppData\\Local\\Temp\\ipykernel_17788\\4227175894.py:4: UserWarning: pandas only supports SQLAlchemy connectable (engine/connection) or database string URI or sqlite3 DBAPI2 connection. Other DBAPI2 objects are not tested. Please consider using SQLAlchemy.\n",
      "  df = pd.read_sql(query, connection)\n",
      "C:\\Users\\WTINFO PC\\AppData\\Local\\Temp\\ipykernel_17788\\4227175894.py:4: UserWarning: pandas only supports SQLAlchemy connectable (engine/connection) or database string URI or sqlite3 DBAPI2 connection. Other DBAPI2 objects are not tested. Please consider using SQLAlchemy.\n",
      "  df = pd.read_sql(query, connection)\n"
     ]
    }
   ],
   "source": [
    "#Consulta 5: Subconsulta EXISTS\n",
    "# Consulta 1: Selecionar funcionários que tenham realizado vendas\n",
    "query5 = \"\"\"\n",
    "SELECT nome\n",
    "FROM veterinaria.funcionario\n",
    "WHERE EXISTS (\n",
    "    SELECT 1\n",
    "    FROM veterinaria.Venda\n",
    "    WHERE Venda.Funcionario_cpf = funcionario.cpf\n",
    ");\n",
    "\"\"\"\n",
    "\n",
    "df5 = execute_query(query5, connection)\n",
    "print(df5.head())\n",
    "\n",
    "# Consulta 2: Selecionar produtos que nunca foram vendidos\n",
    "query6 = \"\"\"\n",
    "SELECT id, descricao\n",
    "FROM veterinaria.Produto AS P\n",
    "WHERE NOT EXISTS (\n",
    "    SELECT 1\n",
    "    FROM veterinaria.itens_venda AS IV\n",
    "    WHERE IV.Produto_id = P.id\n",
    ");\n",
    "\"\"\"\n",
    "\n",
    "df6 = execute_query(query6, connection)\n",
    "print(df6.head())\n"
   ]
  },
  {
   "cell_type": "code",
   "execution_count": 20,
   "metadata": {},
   "outputs": [
    {
     "name": "stdout",
     "output_type": "stream",
     "text": [
      "   id  Funcionario_cpf  Cliente_cpf  pagamento_id           Data_hora  \\\n",
      "0   1        123456789  12057103021             1 2023-05-19 10:30:00   \n",
      "1   2        987654321  12057193021             2 2023-05-19 11:00:00   \n",
      "2   3        456789123  14719263038             3 2023-05-19 11:30:00   \n",
      "3   4        789123456  18315064088             4 2023-05-19 12:00:00   \n",
      "\n",
      "   servico-produto_codigo  Produto_id  \n",
      "0                     NaN         1.0  \n",
      "1                     1.0         NaN  \n",
      "2                     NaN         2.0  \n",
      "3                     2.0         NaN  \n"
     ]
    },
    {
     "name": "stderr",
     "output_type": "stream",
     "text": [
      "C:\\Users\\WTINFO PC\\AppData\\Local\\Temp\\ipykernel_17788\\4227175894.py:4: UserWarning: pandas only supports SQLAlchemy connectable (engine/connection) or database string URI or sqlite3 DBAPI2 connection. Other DBAPI2 objects are not tested. Please consider using SQLAlchemy.\n",
      "  df = pd.read_sql(query, connection)\n"
     ]
    }
   ],
   "source": [
    "#Consulta 6: LEFT JOIN\n",
    "query7 = \"\"\"\n",
    "SELECT V.id, V.Funcionario_cpf, V.Cliente_cpf, V.pagamento_id, V.Data_hora, IV.`servico-produto_codigo`, IV.Produto_id\n",
    "FROM veterinaria.Venda V\n",
    "LEFT JOIN veterinaria.itens_venda IV ON V.id = IV.Venda_idVenda;\n",
    "\"\"\"\n",
    "\n",
    "df7 = execute_query(query7, connection)\n",
    "print(df7.head())\n"
   ]
  },
  {
   "cell_type": "code",
   "execution_count": 21,
   "metadata": {},
   "outputs": [
    {
     "name": "stdout",
     "output_type": "stream",
     "text": [
      "   Cliente_cpf Nome_Cliente  Total_Vendas\n",
      "0  12057103021       Bumbwe             1\n",
      "1  12057193021       Forond             1\n",
      "2  14719263038       Reaion             1\n",
      "3  18315064088        Geurt             1\n"
     ]
    },
    {
     "name": "stderr",
     "output_type": "stream",
     "text": [
      "C:\\Users\\WTINFO PC\\AppData\\Local\\Temp\\ipykernel_17788\\4227175894.py:4: UserWarning: pandas only supports SQLAlchemy connectable (engine/connection) or database string URI or sqlite3 DBAPI2 connection. Other DBAPI2 objects are not tested. Please consider using SQLAlchemy.\n",
      "  df = pd.read_sql(query, connection)\n"
     ]
    }
   ],
   "source": [
    "#Consulta 7: Funções de agregação\n",
    "query8 = \"\"\"\n",
    "SELECT C.cpf AS Cliente_cpf, \n",
    "       C.nome AS Nome_Cliente,\n",
    "       COUNT(*) AS Total_Vendas\n",
    "FROM veterinaria.Venda V\n",
    "JOIN veterinaria.Cliente C ON V.Cliente_cpf = C.cpf\n",
    "GROUP BY Cliente_cpf, Nome_Cliente;\n",
    "\"\"\"\n",
    "\n",
    "df8 = execute_query(query8, connection)\n",
    "print(df8.head())\n"
   ]
  },
  {
   "cell_type": "code",
   "execution_count": 22,
   "metadata": {},
   "outputs": [],
   "source": [
    "# Fechando a conexão\n",
    "if connection:\n",
    "    connection.close()\n"
   ]
  }
 ],
 "metadata": {
  "kernelspec": {
   "display_name": "Python 3",
   "language": "python",
   "name": "python3"
  },
  "language_info": {
   "codemirror_mode": {
    "name": "ipython",
    "version": 3
   },
   "file_extension": ".py",
   "mimetype": "text/x-python",
   "name": "python",
   "nbconvert_exporter": "python",
   "pygments_lexer": "ipython3",
   "version": "3.12.4"
  }
 },
 "nbformat": 4,
 "nbformat_minor": 2
}
